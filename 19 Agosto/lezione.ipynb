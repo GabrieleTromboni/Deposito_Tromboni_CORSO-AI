{
 "cells": [
  {
   "cell_type": "code",
   "execution_count": 2,
   "id": "a10f48b2",
   "metadata": {},
   "outputs": [],
   "source": [
    "# Setup iniziale con i vari import da sfruttare per i due svolgimenti separati\n",
    "import pandas as pd\n",
    "from sklearn.model_selection import train_test_split\n",
    "from sklearn.tree import DecisionTreeClassifier\n",
    "from sklearn.neural_network import MLPClassifier\n",
    "from sklearn.preprocessing import StandardScaler\n",
    "from sklearn.metrics import classification_report"
   ]
  },
  {
   "cell_type": "code",
   "execution_count": 3,
   "id": "96a24d61",
   "metadata": {},
   "outputs": [],
   "source": [
    "# Caricamento Dataset di Kaggle\n",
    "# Kaggle \"DOM_hourly\": columns => [\"Datetime\", \"DOM_MW\"]\n",
    "df = pd.read_csv(\"Esercizio 2/DOM_hourly.csv\", parse_dates=[\"Datetime\"])\n",
    "# Forziamo che la colonna 'Datetime' sia in formato datetime\n",
    "df['Datetime'] = pd.to_datetime(df['Datetime'])\n",
    "df.set_index('Datetime', inplace=True)"
   ]
  },
  {
   "cell_type": "code",
   "execution_count": 4,
   "id": "204185e1",
   "metadata": {},
   "outputs": [],
   "source": [
    "# Feature engineering\n",
    "df[\"hour\"] = df.index.hour\n",
    "df[\"dayofweek\"] = df.index.dayofweek\n",
    "df[\"month\"] = df.index.month"
   ]
  },
  {
   "cell_type": "code",
   "execution_count": 5,
   "id": "1d39f351",
   "metadata": {},
   "outputs": [
    {
     "name": "stdout",
     "output_type": "stream",
     "text": [
      "Train: (81378, 3), Validation: (17382, 3), Test: (17429, 3)\n"
     ]
    }
   ],
   "source": [
    "from sklearn.model_selection import train_test_split\n",
    "\n",
    "# Etichetta: 1 se consumo > mediana, altrimenti 0\n",
    "df[\"target\"] = (df[\"DOM_MW\"] > df[\"DOM_MW\"].median()).astype(int)\n",
    "\n",
    "# Feature: ora, giorno della settimana, mese\n",
    "X = df[[\"hour\", \"dayofweek\", \"month\"]]\n",
    "y = df[\"target\"]\n",
    "\n",
    "# Split\n",
    "X_temp, X_test, y_temp, y_test = train_test_split(X, y, test_size=0.15, stratify=y, random_state=42)\n",
    "X_train, X_val, y_train, y_val = train_test_split(X_temp, y_temp, test_size=0.176, stratify=y_temp, random_state=42)\n",
    "\n",
    "print(f\"Train: {X_train.shape}, Validation: {X_val.shape}, Test: {X_test.shape}\")"
   ]
  },
  {
   "cell_type": "code",
   "execution_count": 6,
   "id": "94a648f6",
   "metadata": {},
   "outputs": [
    {
     "name": "stdout",
     "output_type": "stream",
     "text": [
      "Decision Tree AUC: 0.860 ± 0.001\n",
      "Neural Network AUC: 0.895 ± 0.002\n"
     ]
    }
   ],
   "source": [
    "from sklearn.model_selection import StratifiedKFold, cross_val_score\n",
    "from sklearn.tree import DecisionTreeClassifier\n",
    "from sklearn.neural_network import MLPClassifier\n",
    "from sklearn.preprocessing import StandardScaler\n",
    "from sklearn.pipeline import Pipeline\n",
    "from sklearn.metrics import roc_auc_score, make_scorer\n",
    "\n",
    "# Feature e target (come prima)\n",
    "X = df[[\"hour\", \"dayofweek\", \"month\"]]\n",
    "y = df[\"target\"]\n",
    "\n",
    "# K-Fold stratificato\n",
    "skf = StratifiedKFold(n_splits=5, shuffle=True, random_state=42)\n",
    "\n",
    "# Decision Tree\n",
    "tree = DecisionTreeClassifier(max_depth=5, random_state=42)\n",
    "auc_tree = cross_val_score(tree, X, y, cv=skf, scoring=\"roc_auc\")\n",
    "\n",
    "# Neural Network con scaling\n",
    "mlp_pipeline = Pipeline([\n",
    "    (\"scaler\", StandardScaler()),\n",
    "    (\"mlp\", MLPClassifier(hidden_layer_sizes=(64, 32), max_iter=300, random_state=42))\n",
    "])\n",
    "auc_mlp = cross_val_score(mlp_pipeline, X, y, cv=skf, scoring=\"roc_auc\")\n",
    "\n",
    "print(f\"Decision Tree AUC: {auc_tree.mean():.3f} ± {auc_tree.std():.3f}\")\n",
    "print(f\"Neural Network AUC: {auc_mlp.mean():.3f} ± {auc_mlp.std():.3f}\")\n"
   ]
  },
  {
   "cell_type": "code",
   "execution_count": null,
   "id": "6a35b3b8",
   "metadata": {},
   "outputs": [],
   "source": []
  }
 ],
 "metadata": {
  "kernelspec": {
   "display_name": "Python 3",
   "language": "python",
   "name": "python3"
  },
  "language_info": {
   "codemirror_mode": {
    "name": "ipython",
    "version": 3
   },
   "file_extension": ".py",
   "mimetype": "text/x-python",
   "name": "python",
   "nbconvert_exporter": "python",
   "pygments_lexer": "ipython3",
   "version": "3.11.9"
  }
 },
 "nbformat": 4,
 "nbformat_minor": 5
}

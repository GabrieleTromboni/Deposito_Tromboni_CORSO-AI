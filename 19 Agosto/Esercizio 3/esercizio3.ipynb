{
 "cells": [
  {
   "cell_type": "code",
   "execution_count": 1,
   "id": "5bb4f0fa",
   "metadata": {},
   "outputs": [],
   "source": [
    "# Setup iniziale con i vari import da sfruttare per i due svolgimenti separati\n",
    "import pandas as pd\n",
    "import numpy as np\n",
    "import matplotlib.pyplot as plt\n",
    "from sklearn.model_selection import train_test_split\n",
    "from sklearn.tree import DecisionTreeClassifier\n",
    "from sklearn.linear_model import LogisticRegression\n",
    "from sklearn.ensemble import RandomForestClassifier\n",
    "import xgboost as xgb\n",
    "from sklearn.metrics import classification_report"
   ]
  },
  {
   "cell_type": "code",
   "execution_count": 34,
   "id": "7dbbee25",
   "metadata": {},
   "outputs": [
    {
     "name": "stdout",
     "output_type": "stream",
     "text": [
      "<class 'pandas.core.frame.DataFrame'>\n",
      "DatetimeIndex: 9471 entries, 2004-03-10 18:00:00 to NaT\n",
      "Data columns (total 15 columns):\n",
      " #   Column         Non-Null Count  Dtype  \n",
      "---  ------         --------------  -----  \n",
      " 0   CO(GT)         9357 non-null   object \n",
      " 1   PT08.S1(CO)    9357 non-null   float64\n",
      " 2   NMHC(GT)       9357 non-null   float64\n",
      " 3   C6H6(GT)       9357 non-null   object \n",
      " 4   PT08.S2(NMHC)  9357 non-null   float64\n",
      " 5   NOx(GT)        9357 non-null   float64\n",
      " 6   PT08.S3(NOx)   9357 non-null   float64\n",
      " 7   NO2(GT)        9357 non-null   float64\n",
      " 8   PT08.S4(NO2)   9357 non-null   float64\n",
      " 9   PT08.S5(O3)    9357 non-null   float64\n",
      " 10  T              9357 non-null   object \n",
      " 11  RH             9357 non-null   object \n",
      " 12  AH             9357 non-null   object \n",
      " 13  Unnamed: 15    0 non-null      float64\n",
      " 14  Unnamed: 16    0 non-null      float64\n",
      "dtypes: float64(10), object(5)\n",
      "memory usage: 1.2+ MB\n"
     ]
    }
   ],
   "source": [
    "# Loading Dataset Kaggle\n",
    "data = pd.read_csv('AirQualityUCI.csv', delimiter=';')\n",
    "# Convert column 'Date' in datetime format to extract day, month, year, column 'Time' to pick hour\n",
    "data['Date'] = pd.to_datetime(data['Date'], format='%d/%m/%Y')\n",
    "# Replace dots with colons in the Time column\n",
    "data['Time'] = pd.to_timedelta(data['Time'].str.replace('.', ':'))\n",
    "# Create column 'datetime'\n",
    "data['Datetime'] = data['Date'] + data['Time']\n",
    "data.set_index('Datetime', inplace=True)\n",
    "data.drop(columns=['Date', 'Time'], inplace=True)\n",
    "data.info()"
   ]
  },
  {
   "cell_type": "code",
   "execution_count": 35,
   "id": "c1374caf",
   "metadata": {},
   "outputs": [
    {
     "data": {
      "application/vnd.microsoft.datawrangler.viewer.v0+json": {
       "columns": [
        {
         "name": "Datetime",
         "rawType": "datetime64[ns]",
         "type": "datetime"
        },
        {
         "name": "CO(GT)",
         "rawType": "object",
         "type": "string"
        },
        {
         "name": "PT08.S1(CO)",
         "rawType": "float64",
         "type": "float"
        },
        {
         "name": "NMHC(GT)",
         "rawType": "float64",
         "type": "float"
        },
        {
         "name": "C6H6(GT)",
         "rawType": "object",
         "type": "string"
        },
        {
         "name": "PT08.S2(NMHC)",
         "rawType": "float64",
         "type": "float"
        },
        {
         "name": "NOx(GT)",
         "rawType": "float64",
         "type": "float"
        },
        {
         "name": "PT08.S3(NOx)",
         "rawType": "float64",
         "type": "float"
        },
        {
         "name": "NO2(GT)",
         "rawType": "float64",
         "type": "float"
        },
        {
         "name": "PT08.S4(NO2)",
         "rawType": "float64",
         "type": "float"
        },
        {
         "name": "PT08.S5(O3)",
         "rawType": "float64",
         "type": "float"
        },
        {
         "name": "T",
         "rawType": "object",
         "type": "string"
        },
        {
         "name": "RH",
         "rawType": "object",
         "type": "string"
        },
        {
         "name": "AH",
         "rawType": "object",
         "type": "string"
        },
        {
         "name": "Unnamed: 15",
         "rawType": "float64",
         "type": "float"
        },
        {
         "name": "Unnamed: 16",
         "rawType": "float64",
         "type": "float"
        }
       ],
       "ref": "09002f86-961a-4d36-bf2a-f92908d138f5",
       "rows": [
        [
         "2004-03-10 18:00:00",
         "2,6",
         "1360.0",
         "150.0",
         "11,9",
         "1046.0",
         "166.0",
         "1056.0",
         "113.0",
         "1692.0",
         "1268.0",
         "13,6",
         "48,9",
         "0,7578",
         null,
         null
        ],
        [
         "2004-03-10 19:00:00",
         "2",
         "1292.0",
         "112.0",
         "9,4",
         "955.0",
         "103.0",
         "1174.0",
         "92.0",
         "1559.0",
         "972.0",
         "13,3",
         "47,7",
         "0,7255",
         null,
         null
        ],
        [
         "2004-03-10 20:00:00",
         "2,2",
         "1402.0",
         "88.0",
         "9,0",
         "939.0",
         "131.0",
         "1140.0",
         "114.0",
         "1555.0",
         "1074.0",
         "11,9",
         "54,0",
         "0,7502",
         null,
         null
        ],
        [
         "2004-03-10 21:00:00",
         "2,2",
         "1376.0",
         "80.0",
         "9,2",
         "948.0",
         "172.0",
         "1092.0",
         "122.0",
         "1584.0",
         "1203.0",
         "11,0",
         "60,0",
         "0,7867",
         null,
         null
        ],
        [
         "2004-03-10 22:00:00",
         "1,6",
         "1272.0",
         "51.0",
         "6,5",
         "836.0",
         "131.0",
         "1205.0",
         "116.0",
         "1490.0",
         "1110.0",
         "11,2",
         "59,6",
         "0,7888",
         null,
         null
        ]
       ],
       "shape": {
        "columns": 15,
        "rows": 5
       }
      },
      "text/html": [
       "<div>\n",
       "<style scoped>\n",
       "    .dataframe tbody tr th:only-of-type {\n",
       "        vertical-align: middle;\n",
       "    }\n",
       "\n",
       "    .dataframe tbody tr th {\n",
       "        vertical-align: top;\n",
       "    }\n",
       "\n",
       "    .dataframe thead th {\n",
       "        text-align: right;\n",
       "    }\n",
       "</style>\n",
       "<table border=\"1\" class=\"dataframe\">\n",
       "  <thead>\n",
       "    <tr style=\"text-align: right;\">\n",
       "      <th></th>\n",
       "      <th>CO(GT)</th>\n",
       "      <th>PT08.S1(CO)</th>\n",
       "      <th>NMHC(GT)</th>\n",
       "      <th>C6H6(GT)</th>\n",
       "      <th>PT08.S2(NMHC)</th>\n",
       "      <th>NOx(GT)</th>\n",
       "      <th>PT08.S3(NOx)</th>\n",
       "      <th>NO2(GT)</th>\n",
       "      <th>PT08.S4(NO2)</th>\n",
       "      <th>PT08.S5(O3)</th>\n",
       "      <th>T</th>\n",
       "      <th>RH</th>\n",
       "      <th>AH</th>\n",
       "      <th>Unnamed: 15</th>\n",
       "      <th>Unnamed: 16</th>\n",
       "    </tr>\n",
       "    <tr>\n",
       "      <th>Datetime</th>\n",
       "      <th></th>\n",
       "      <th></th>\n",
       "      <th></th>\n",
       "      <th></th>\n",
       "      <th></th>\n",
       "      <th></th>\n",
       "      <th></th>\n",
       "      <th></th>\n",
       "      <th></th>\n",
       "      <th></th>\n",
       "      <th></th>\n",
       "      <th></th>\n",
       "      <th></th>\n",
       "      <th></th>\n",
       "      <th></th>\n",
       "    </tr>\n",
       "  </thead>\n",
       "  <tbody>\n",
       "    <tr>\n",
       "      <th>2004-03-10 18:00:00</th>\n",
       "      <td>2,6</td>\n",
       "      <td>1360.0</td>\n",
       "      <td>150.0</td>\n",
       "      <td>11,9</td>\n",
       "      <td>1046.0</td>\n",
       "      <td>166.0</td>\n",
       "      <td>1056.0</td>\n",
       "      <td>113.0</td>\n",
       "      <td>1692.0</td>\n",
       "      <td>1268.0</td>\n",
       "      <td>13,6</td>\n",
       "      <td>48,9</td>\n",
       "      <td>0,7578</td>\n",
       "      <td>NaN</td>\n",
       "      <td>NaN</td>\n",
       "    </tr>\n",
       "    <tr>\n",
       "      <th>2004-03-10 19:00:00</th>\n",
       "      <td>2</td>\n",
       "      <td>1292.0</td>\n",
       "      <td>112.0</td>\n",
       "      <td>9,4</td>\n",
       "      <td>955.0</td>\n",
       "      <td>103.0</td>\n",
       "      <td>1174.0</td>\n",
       "      <td>92.0</td>\n",
       "      <td>1559.0</td>\n",
       "      <td>972.0</td>\n",
       "      <td>13,3</td>\n",
       "      <td>47,7</td>\n",
       "      <td>0,7255</td>\n",
       "      <td>NaN</td>\n",
       "      <td>NaN</td>\n",
       "    </tr>\n",
       "    <tr>\n",
       "      <th>2004-03-10 20:00:00</th>\n",
       "      <td>2,2</td>\n",
       "      <td>1402.0</td>\n",
       "      <td>88.0</td>\n",
       "      <td>9,0</td>\n",
       "      <td>939.0</td>\n",
       "      <td>131.0</td>\n",
       "      <td>1140.0</td>\n",
       "      <td>114.0</td>\n",
       "      <td>1555.0</td>\n",
       "      <td>1074.0</td>\n",
       "      <td>11,9</td>\n",
       "      <td>54,0</td>\n",
       "      <td>0,7502</td>\n",
       "      <td>NaN</td>\n",
       "      <td>NaN</td>\n",
       "    </tr>\n",
       "    <tr>\n",
       "      <th>2004-03-10 21:00:00</th>\n",
       "      <td>2,2</td>\n",
       "      <td>1376.0</td>\n",
       "      <td>80.0</td>\n",
       "      <td>9,2</td>\n",
       "      <td>948.0</td>\n",
       "      <td>172.0</td>\n",
       "      <td>1092.0</td>\n",
       "      <td>122.0</td>\n",
       "      <td>1584.0</td>\n",
       "      <td>1203.0</td>\n",
       "      <td>11,0</td>\n",
       "      <td>60,0</td>\n",
       "      <td>0,7867</td>\n",
       "      <td>NaN</td>\n",
       "      <td>NaN</td>\n",
       "    </tr>\n",
       "    <tr>\n",
       "      <th>2004-03-10 22:00:00</th>\n",
       "      <td>1,6</td>\n",
       "      <td>1272.0</td>\n",
       "      <td>51.0</td>\n",
       "      <td>6,5</td>\n",
       "      <td>836.0</td>\n",
       "      <td>131.0</td>\n",
       "      <td>1205.0</td>\n",
       "      <td>116.0</td>\n",
       "      <td>1490.0</td>\n",
       "      <td>1110.0</td>\n",
       "      <td>11,2</td>\n",
       "      <td>59,6</td>\n",
       "      <td>0,7888</td>\n",
       "      <td>NaN</td>\n",
       "      <td>NaN</td>\n",
       "    </tr>\n",
       "  </tbody>\n",
       "</table>\n",
       "</div>"
      ],
      "text/plain": [
       "                    CO(GT)  PT08.S1(CO)  NMHC(GT) C6H6(GT)  PT08.S2(NMHC)  \\\n",
       "Datetime                                                                    \n",
       "2004-03-10 18:00:00    2,6       1360.0     150.0     11,9         1046.0   \n",
       "2004-03-10 19:00:00      2       1292.0     112.0      9,4          955.0   \n",
       "2004-03-10 20:00:00    2,2       1402.0      88.0      9,0          939.0   \n",
       "2004-03-10 21:00:00    2,2       1376.0      80.0      9,2          948.0   \n",
       "2004-03-10 22:00:00    1,6       1272.0      51.0      6,5          836.0   \n",
       "\n",
       "                     NOx(GT)  PT08.S3(NOx)  NO2(GT)  PT08.S4(NO2)  \\\n",
       "Datetime                                                            \n",
       "2004-03-10 18:00:00    166.0        1056.0    113.0        1692.0   \n",
       "2004-03-10 19:00:00    103.0        1174.0     92.0        1559.0   \n",
       "2004-03-10 20:00:00    131.0        1140.0    114.0        1555.0   \n",
       "2004-03-10 21:00:00    172.0        1092.0    122.0        1584.0   \n",
       "2004-03-10 22:00:00    131.0        1205.0    116.0        1490.0   \n",
       "\n",
       "                     PT08.S5(O3)     T    RH      AH  Unnamed: 15  Unnamed: 16  \n",
       "Datetime                                                                        \n",
       "2004-03-10 18:00:00       1268.0  13,6  48,9  0,7578          NaN          NaN  \n",
       "2004-03-10 19:00:00        972.0  13,3  47,7  0,7255          NaN          NaN  \n",
       "2004-03-10 20:00:00       1074.0  11,9  54,0  0,7502          NaN          NaN  \n",
       "2004-03-10 21:00:00       1203.0  11,0  60,0  0,7867          NaN          NaN  \n",
       "2004-03-10 22:00:00       1110.0  11,2  59,6  0,7888          NaN          NaN  "
      ]
     },
     "execution_count": 35,
     "metadata": {},
     "output_type": "execute_result"
    }
   ],
   "source": [
    "data.head(5)"
   ]
  },
  {
   "cell_type": "code",
   "execution_count": 36,
   "id": "d9e522fb",
   "metadata": {},
   "outputs": [],
   "source": [
    "# Preprocessing and 'Feature Selection'\n",
    "data = data.dropna(axis=1, how='all')\n",
    "data = data.select_dtypes(include=['datetime64[ns]', 'float64'])"
   ]
  },
  {
   "cell_type": "code",
   "execution_count": 37,
   "id": "df36ba91",
   "metadata": {},
   "outputs": [
    {
     "data": {
      "application/vnd.microsoft.datawrangler.viewer.v0+json": {
       "columns": [
        {
         "name": "index",
         "rawType": "object",
         "type": "string"
        },
        {
         "name": "NO2(GT)",
         "rawType": "float64",
         "type": "float"
        }
       ],
       "ref": "8fb52a89-513d-471c-a218-a7ec654d5bab",
       "rows": [
        [
         "count",
         "9357.0"
        ],
        [
         "mean",
         "58.14887250187026"
        ],
        [
         "std",
         "126.9404552589075"
        ],
        [
         "min",
         "-200.0"
        ],
        [
         "25%",
         "53.0"
        ],
        [
         "50%",
         "96.0"
        ],
        [
         "75%",
         "133.0"
        ],
        [
         "max",
         "340.0"
        ]
       ],
       "shape": {
        "columns": 1,
        "rows": 8
       }
      },
      "text/plain": [
       "count    9357.000000\n",
       "mean       58.148873\n",
       "std       126.940455\n",
       "min      -200.000000\n",
       "25%        53.000000\n",
       "50%        96.000000\n",
       "75%       133.000000\n",
       "max       340.000000\n",
       "Name: NO2(GT), dtype: float64"
      ]
     },
     "execution_count": 37,
     "metadata": {},
     "output_type": "execute_result"
    }
   ],
   "source": [
    "data['NO2(GT)'].describe()"
   ]
  },
  {
   "cell_type": "code",
   "execution_count": 38,
   "id": "1c1bd263",
   "metadata": {},
   "outputs": [],
   "source": [
    "global_mean = data['NO2(GT)'].mean()"
   ]
  },
  {
   "cell_type": "code",
   "execution_count": 39,
   "id": "cd2d9767",
   "metadata": {},
   "outputs": [],
   "source": [
    "daily_mean = data['NO2(GT)'].resample('D').mean()\n",
    "weekly_mean = data['NO2(GT)'].resample('W').mean()"
   ]
  },
  {
   "cell_type": "code",
   "execution_count": 40,
   "id": "d92a20c9",
   "metadata": {},
   "outputs": [],
   "source": [
    "data['Media_Settimanale'] = weekly_mean.reindex(data.index).ffill()\n",
    "data['Media_Giornaliera'] = daily_mean.reindex(data.index).ffill()\n",
    "data['Media_Globale'] = global_mean"
   ]
  },
  {
   "cell_type": "code",
   "execution_count": null,
   "id": "7a6c7171",
   "metadata": {},
   "outputs": [],
   "source": [
    "data[\"target_settimanale\"] = (data[\"NO2(GT)\"] > data[\"Media_Settimanale\"]).astype(int)\n",
    "data[\"target_giornaliero\"] = (data[\"NO2(GT)\"] > data[\"Media_Giornaliera\"]).astype(int)\n",
    "data[\"target_globale\"] = (data[\"NO2(GT)\"] > data[\"Media_Globale\"]).astype(int)"
   ]
  },
  {
   "cell_type": "code",
   "execution_count": null,
   "id": "f4a2a1a3",
   "metadata": {},
   "outputs": [],
   "source": []
  }
 ],
 "metadata": {
  "kernelspec": {
   "display_name": "Python 3",
   "language": "python",
   "name": "python3"
  },
  "language_info": {
   "codemirror_mode": {
    "name": "ipython",
    "version": 3
   },
   "file_extension": ".py",
   "mimetype": "text/x-python",
   "name": "python",
   "nbconvert_exporter": "python",
   "pygments_lexer": "ipython3",
   "version": "3.11.9"
  }
 },
 "nbformat": 4,
 "nbformat_minor": 5
}

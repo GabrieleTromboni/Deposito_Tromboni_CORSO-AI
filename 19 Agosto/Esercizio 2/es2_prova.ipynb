{
 "cells": [
  {
   "cell_type": "code",
   "execution_count": 1,
   "id": "6aa59725",
   "metadata": {},
   "outputs": [],
   "source": [
    "# Setup iniziale con i vari import da sfruttare per i due svolgimenti separati\n",
    "import pandas as pd\n",
    "from sklearn.model_selection import train_test_split\n",
    "from sklearn.tree import DecisionTreeClassifier\n",
    "from sklearn.neural_network import MLPClassifier\n",
    "from sklearn.preprocessing import StandardScaler\n",
    "from sklearn.metrics import classification_report"
   ]
  },
  {
   "cell_type": "code",
   "execution_count": 2,
   "id": "ea9b39d6",
   "metadata": {},
   "outputs": [],
   "source": [
    "# Caricamento Dataset di Kaggle\n",
    "# Kaggle \"DOM_hourly\": columns => [\"Datetime\", \"DOM_MW\"]\n",
    "df = pd.read_csv(\"DOM_hourly.csv\", parse_dates=[\"Datetime\"])\n",
    "# Forziamo che la colonna 'Datetime' sia in formato datetime\n",
    "df['Datetime'] = pd.to_datetime(df['Datetime'])\n",
    "df.set_index('Datetime', inplace=True)"
   ]
  },
  {
   "cell_type": "code",
   "execution_count": 3,
   "id": "06d013a0",
   "metadata": {},
   "outputs": [],
   "source": [
    "# Feature engineering\n",
    "df[\"hour\"] = df.index.hour\n",
    "df[\"dayofweek\"] = df.index.dayofweek\n",
    "df[\"month\"] = df.index.month"
   ]
  },
  {
   "cell_type": "code",
   "execution_count": 5,
   "id": "d4bed935",
   "metadata": {},
   "outputs": [],
   "source": [
    "# Calcolo delle varie medie, settimanale, mensile e globale\n",
    "media_settimanale = df['DOM_MW'].resample('W').mean()\n",
    "media_mensile = df['DOM_MW'].resample('ME').mean()\n",
    "media_globale = df['DOM_MW'].mean()\n",
    "\n",
    "# Aggiungere le medie al DataFrame\n",
    "df['Media_Settimanale'] = media_settimanale.reindex(df.index).ffill()\n",
    "df['Media_Mensile'] = media_mensile.reindex(df.index).ffill()\n",
    "df['Media_Globale'] = media_globale"
   ]
  },
  {
   "cell_type": "markdown",
   "id": "1ac744cb",
   "metadata": {},
   "source": [
    "### SVOLGIMENTO RAPIDO USANDO DIRETTAMENTE PANDAS"
   ]
  },
  {
   "cell_type": "code",
   "execution_count": null,
   "id": "13aeabdf",
   "metadata": {},
   "outputs": [],
   "source": []
  },
  {
   "cell_type": "markdown",
   "id": "07c40f98",
   "metadata": {},
   "source": [
    "### SVOLGIMENTO CON MODELLO DI MACHINE LEARNING"
   ]
  },
  {
   "cell_type": "code",
   "execution_count": null,
   "id": "f8cb9b34",
   "metadata": {},
   "outputs": [],
   "source": [
    "# Target binario: 1 se consumo sopra la mediana\n",
    "df[\"target\"] = (df[\"AEP_MW\"] > df[\"AEP_MW\"].median()).astype(int)\n",
    "\n",
    "# #### Selezione delle feature\n",
    "X = df[[\"hour\", \"dayofweek\", \"month\"]]\n",
    "y = df[\"target\"]\n",
    "\n",
    "# #### Split del dataset\n",
    "X_train, X_test, y_train, y_test = train_test_split(\n",
    "    X, y, stratify=y, test_size=0.25, random_state=42\n",
    ")\n",
    "\n",
    "# #### Modello 1 – Decision Tree\n",
    "tree = DecisionTreeClassifier(max_depth=5, random_state=42)\n",
    "tree.fit(X_train, y_train)\n",
    "y_pred_tree = tree.predict(X_test)\n",
    "\n",
    "print(\"Decision Tree:\")\n",
    "print(classification_report(y_test, y_pred_tree, digits=3))\n",
    "\n",
    "# #### Modello 2 – Neural Network (MLP)\n",
    "scaler = StandardScaler()\n",
    "X_train_scaled = scaler.fit_transform(X_train)\n",
    "X_test_scaled = scaler.transform(X_test)\n",
    "\n",
    "mlp = MLPClassifier(hidden_layer_sizes=(64, 32), max_iter=300, random_state=42)\n",
    "mlp.fit(X_train_scaled, y_train)\n",
    "y_pred_mlp = mlp.predict(X_test_scaled)\n",
    "\n",
    "print(\"Neural Network:\")\n",
    "print(classification_report(y_test, y_pred_mlp, digits=3))"
   ]
  }
 ],
 "metadata": {
  "kernelspec": {
   "display_name": "Python 3",
   "language": "python",
   "name": "python3"
  },
  "language_info": {
   "codemirror_mode": {
    "name": "ipython",
    "version": 3
   },
   "file_extension": ".py",
   "mimetype": "text/x-python",
   "name": "python",
   "nbconvert_exporter": "python",
   "pygments_lexer": "ipython3",
   "version": "3.11.9"
  }
 },
 "nbformat": 4,
 "nbformat_minor": 5
}

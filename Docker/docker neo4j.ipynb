{
 "cells": [
  {
   "cell_type": "markdown",
   "id": "92fe28ab",
   "metadata": {},
   "source": [
    "## DockerFile Neo4j"
   ]
  },
  {
   "cell_type": "code",
   "execution_count": null,
   "id": "0ac92bb0",
   "metadata": {},
   "outputs": [
    {
     "name": "stdout",
     "output_type": "stream",
     "text": [
      "✅ Dockerfile creato.\n"
     ]
    }
   ],
   "source": [
    "dockerfile = '''# Usa l'immagine ufficiale di Neo4j\n",
    "FROM neo4j:latest\n",
    "\n",
    "# Imposta variabili d'ambiente (utente e password)\n",
    "ENV NEO4J_AUTH=neo4j/password\n",
    "\n",
    "# Espone porte:\n",
    "# 7474 -> interfaccia web (Browser Neo4j)\n",
    "# 7687 -> protocollo Bolt per client/app\n",
    "EXPOSE 7474 7687\n",
    "'''\n",
    "\n",
    "with open(\"Dockerfile\", \"w\") as f:\n",
    "    f.write(dockerfile)\n",
    "\n",
    "print(\"✅ Dockerfile creato.\")\n"
   ]
  },
  {
   "cell_type": "markdown",
   "id": "7ed246d9",
   "metadata": {},
   "source": [
    "## Build & Run\n",
    "\n",
    "Da terminale, nella stessa cartella dove hai Dockerfile:"
   ]
  },
  {
   "cell_type": "markdown",
   "id": "ace358e2",
   "metadata": {},
   "source": [
    "```bash \n",
    "# Build dell'immagine\n",
    "docker build -t my-neo4j .\n",
    "\n",
    "# Esecuzione\n",
    "docker run -d --name neo4j-container -p 7474:7474 -p 7687:7687 my-neo4j```"
   ]
  }
 ],
 "metadata": {
  "kernelspec": {
   "display_name": "base",
   "language": "python",
   "name": "python3"
  },
  "language_info": {
   "codemirror_mode": {
    "name": "ipython",
    "version": 3
   },
   "file_extension": ".py",
   "mimetype": "text/x-python",
   "name": "python",
   "nbconvert_exporter": "python",
   "pygments_lexer": "ipython3",
   "version": "3.13.5"
  }
 },
 "nbformat": 4,
 "nbformat_minor": 5
}

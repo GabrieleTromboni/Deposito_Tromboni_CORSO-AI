{
 "cells": [
  {
   "cell_type": "markdown",
   "id": "758071a9",
   "metadata": {},
   "source": [
    "## App interattiva"
   ]
  },
  {
   "cell_type": "code",
   "execution_count": 12,
   "id": "ee3a546e",
   "metadata": {},
   "outputs": [
    {
     "name": "stdout",
     "output_type": "stream",
     "text": [
      "Writing app2.py\n"
     ]
    }
   ],
   "source": [
    "%%writefile app2.py\n",
    "\n",
    "def main():\n",
    "    print(\"👋 Benvenuto nel mio script interattivo!\")\n",
    "    while True:\n",
    "        comando = input(\"Scrivi qualcosa (o 'exit' per uscire): \").strip().lower()\n",
    "        if comando == \"exit\":\n",
    "            print(\"👋 Uscita dal programma. Ciao!\")\n",
    "            break\n",
    "        elif comando == \"ciao\":\n",
    "            print(\"Ciao anche a te! 😊\")\n",
    "        else:\n",
    "            print(f\"Hai scritto: {comando}\")\n",
    "\n",
    "if __name__ == \"__main__\":\n",
    "    main()\n"
   ]
  },
  {
   "cell_type": "markdown",
   "id": "7e07675a",
   "metadata": {},
   "source": [
    "Questo programma rimane in loop, riceve input da terminale e risponde."
   ]
  },
  {
   "cell_type": "markdown",
   "id": "0c6fdc29",
   "metadata": {},
   "source": [
    "## Dockerfile"
   ]
  },
  {
   "cell_type": "code",
   "execution_count": 13,
   "id": "0b7630a3",
   "metadata": {},
   "outputs": [
    {
     "name": "stdout",
     "output_type": "stream",
     "text": [
      "✅ Dockerfile creato.\n"
     ]
    }
   ],
   "source": [
    "dockerfile = '''# Usa un'immagine ufficiale di Python come base\n",
    "FROM python:latest\n",
    "\n",
    "# Imposta directory di lavoro\n",
    "WORKDIR /app\n",
    "\n",
    "# Copia lo script dentro al container\n",
    "COPY app2.py .\n",
    "\n",
    "# Imposta il comando di avvio\n",
    "CMD [\"python\", \"app2.py\"]'''\n",
    "\n",
    "with open(\"Dockerfile\", \"w\") as f:\n",
    "    f.write(dockerfile)\n",
    "\n",
    "print(\"✅ Dockerfile creato.\")\n"
   ]
  },
  {
   "cell_type": "markdown",
   "id": "272c40da",
   "metadata": {},
   "source": [
    "## Build & Run\n",
    "\n",
    "Da terminale, nella stessa cartella dove hai app2.py e Dockerfile:"
   ]
  },
  {
   "cell_type": "markdown",
   "id": "e2d35403",
   "metadata": {},
   "source": [
    "```bash \n",
    "# Build dell'immagine (la chiamo myapp)\n",
    "docker build -t myapp .\n",
    "\n",
    "# Esegui il container in modalità interattiva\n",
    "docker run -it myapp```\n"
   ]
  },
  {
   "cell_type": "markdown",
   "id": "53ee0514",
   "metadata": {},
   "source": [
    "Con -it avrai un terminale interattivo per scrivere i comandi."
   ]
  },
  {
   "cell_type": "markdown",
   "id": "b94d4a3c",
   "metadata": {},
   "source": [
    "## DockerFile Mysql"
   ]
  },
  {
   "cell_type": "code",
   "execution_count": 1,
   "id": "357949cf",
   "metadata": {},
   "outputs": [
    {
     "name": "stdout",
     "output_type": "stream",
     "text": [
      "✅ Dockerfile creato.\n"
     ]
    }
   ],
   "source": [
    "dockerfile = '''# Usa l'immagine ufficiale di MySQL\n",
    "FROM mysql:latest\n",
    "\n",
    "# Imposta variabili d'ambiente (minime necessarie)\n",
    "ENV MYSQL_ROOT_PASSWORD=rootpassword\n",
    "ENV MYSQL_DATABASE=mydb\n",
    "ENV MYSQL_USER=myuser\n",
    "ENV MYSQL_PASSWORD=mypassword\n",
    "\n",
    "# Espone la porta\n",
    "EXPOSE 3306\n",
    "'''\n",
    "\n",
    "with open(\"DockerfileSQL\", \"w\") as f:\n",
    "    f.write(dockerfile)\n",
    "\n",
    "print(\"✅ Dockerfile creato.\")\n"
   ]
  },
  {
   "cell_type": "markdown",
   "id": "07cd9773",
   "metadata": {},
   "source": [
    "## Build & Run\n",
    "\n",
    "Da terminale, nella stessa cartella dove hai Dockerfile:"
   ]
  },
  {
   "cell_type": "markdown",
   "id": "bfab11c3",
   "metadata": {},
   "source": [
    "```bash \n",
    "# Build dell'immagine\n",
    "docker build -t my-mysql .\n",
    "\n",
    "# Esecuzione\n",
    "docker run -d --name mysql-container -p 3306:3306 my-mysql```"
   ]
  },
  {
   "cell_type": "markdown",
   "id": "13503ec4",
   "metadata": {},
   "source": [
    "## Libreria per i DB Mysql"
   ]
  },
  {
   "cell_type": "code",
   "execution_count": null,
   "id": "0d5301b8",
   "metadata": {},
   "outputs": [],
   "source": [
    "!pip install mysql-connector-python"
   ]
  },
  {
   "cell_type": "markdown",
   "id": "244f3bf8",
   "metadata": {},
   "source": [
    "## Connessione al DB"
   ]
  },
  {
   "cell_type": "code",
   "execution_count": 15,
   "id": "b0579571",
   "metadata": {},
   "outputs": [
    {
     "name": "stdout",
     "output_type": "stream",
     "text": [
      "Funzionante\n"
     ]
    }
   ],
   "source": [
    "import mysql.connector\n",
    "\n",
    "mydb = mysql.connector.connect(\n",
    "  host=\"localhost\",\n",
    "  user=\"myuser\",\n",
    "  password=\"mypassword\",\n",
    "  port=3306\n",
    ")\n",
    "print(\"Funzionante\")"
   ]
  },
  {
   "cell_type": "code",
   "execution_count": 16,
   "id": "ec9ba57f",
   "metadata": {},
   "outputs": [
    {
     "name": "stdout",
     "output_type": "stream",
     "text": [
      "('information_schema',)\n",
      "('mydb',)\n",
      "('performance_schema',)\n"
     ]
    }
   ],
   "source": [
    "import mysql.connector\n",
    "\n",
    "mydb = mysql.connector.connect(\n",
    "  host=\"localhost\",\n",
    "  user=\"myuser\",\n",
    "  password=\"mypassword\",\n",
    "  port=3306\n",
    ")\n",
    "\n",
    "mycursor = mydb.cursor()\n",
    "\n",
    "mycursor.execute(\"SHOW DATABASES\")\n",
    "\n",
    "for x in mycursor:\n",
    "  print(x)"
   ]
  },
  {
   "cell_type": "markdown",
   "id": "deb6ed12",
   "metadata": {},
   "source": [
    "## 🎯 Script Completo per l'Esercizio\n",
    "\n",
    "Ho creato uno script completo `mysql_user_manager.py` che implementa tutto l'esercizio:\n",
    "\n",
    "### ✅ Funzionalità implementate:\n",
    "\n",
    "1. **🐳 Gestione Container MySQL**: Crea automaticamente il container MySQL\n",
    "2. **📝 Inserimento Utenti**: Interfaccia interattiva per aggiungere utenti\n",
    "3. **👥 Visualizzazione Utenti**: Mostra tutti gli utenti in formato tabellare  \n",
    "4. **🔧 Gestione Errori**: Gestisce connessioni, errori e validazione input\n",
    "5. **🎮 Menu Interattivo**: Interfaccia user-friendly\n",
    "\n",
    "### 🚀 Come usare lo script:\n",
    "\n",
    "```bash\n",
    "# Esegui lo script\n",
    "python mysql_user_manager.py\n",
    "```\n",
    "\n",
    "Lo script farà automaticamente:\n",
    "- ✅ Verifica che Docker sia disponibile\n",
    "- ✅ Crea e avvia il container MySQL\n",
    "- ✅ Si connette al database\n",
    "- ✅ Crea la tabella users\n",
    "- ✅ Mostra il menu interattivo"
   ]
  },
  {
   "cell_type": "code",
   "execution_count": 1,
   "id": "facd515d",
   "metadata": {},
   "outputs": [
    {
     "name": "stdout",
     "output_type": "stream",
     "text": [
      "✅ Script mysql_user_manager.py importato correttamente!\n",
      "🚀 Per eseguirlo completo, usa: python mysql_user_manager.py\n"
     ]
    }
   ],
   "source": [
    "# Test del script (solo verifica che si importi correttamente)\n",
    "try:\n",
    "    import mysql_user_manager\n",
    "    print(\"✅ Script mysql_user_manager.py importato correttamente!\")\n",
    "    print(\"🚀 Per eseguirlo completo, usa: python mysql_user_manager.py\")\n",
    "except ImportError as e:\n",
    "    print(f\"❌ Errore nell'import: {e}\")\n",
    "except Exception as e:\n",
    "    print(f\"⚠️ Errore generico: {e}\")"
   ]
  },
  {
   "cell_type": "markdown",
   "id": "046c379e",
   "metadata": {},
   "source": [
    "## 📋 Istruzioni Complete per l'Esercizio\n",
    "\n",
    "### 🎯 **Obiettivo**: Gestire utenti in un database MySQL containerizzato\n",
    "\n",
    "### 📁 **File creati**:\n",
    "- `mysql_user_manager.py` - Script principale  \n",
    "- `DockerfileMySQL` - Dockerfile personalizzato per MySQL\n",
    "- `requirements_mysql.txt` - Dipendenze Python\n",
    "\n",
    "### 🚀 **Esecuzione**:\n",
    "\n",
    "1. **Assicurati che Docker sia in esecuzione**\n",
    "2. **Esegui lo script principale**:\n",
    "   ```bash\n",
    "   python mysql_user_manager.py\n",
    "   ```\n",
    "\n",
    "### 🎮 **Funzionalità del Menu**:\n",
    "\n",
    "1. **➕ Inserire nuovo utente**: Aggiunge utenti con nome, email e età\n",
    "2. **👥 Visualizzare tutti gli utenti**: Mostra la tabella completa degli utenti  \n",
    "3. **🔄 Ricreare container MySQL**: Ricrea il container da zero\n",
    "4. **🚪 Uscire**: Chiude l'applicazione\n",
    "\n",
    "### 🔧 **Caratteristiche Tecniche**:\n",
    "\n",
    "- ✅ **Gestione automatica container Docker**\n",
    "- ✅ **Connessione sicura al database**  \n",
    "- ✅ **Validazione input utente**\n",
    "- ✅ **Gestione errori robusta**\n",
    "- ✅ **Interfaccia user-friendly**\n",
    "- ✅ **Creazione automatica tabelle**\n",
    "\n",
    "### 📊 **Esempio di Output**:\n",
    "```\n",
    "👥 UTENTI PRESENTI NEL DATABASE:\n",
    "================================================================================\n",
    "ID    Nome                 Email                          Età   Data Creazione     \n",
    "--------------------------------------------------------------------------------\n",
    "1     Mario Rossi          mario.rossi@email.com          30    2025-09-04 10:30:15\n",
    "2     Anna Verdi           anna.verdi@email.com           25    2025-09-04 10:31:22\n",
    "--------------------------------------------------------------------------------\n",
    "Totale utenti: 2\n",
    "```"
   ]
  },
  {
   "cell_type": "code",
   "execution_count": 2,
   "id": "249df86b",
   "metadata": {},
   "outputs": [
    {
     "name": "stdout",
     "output_type": "stream",
     "text": [
      "🎯 DEMO - MySQL User Manager\n",
      "==================================================\n",
      "✅ Docker è disponibile.\n",
      "✅ Docker è disponibile e pronto per l'uso!\n",
      "\n",
      "📋 Per eseguire l'esercizio completo:\n",
      "   1. Apri un terminale\n",
      "   2. Esegui: python mysql_user_manager.py\n",
      "   3. Segui il menu interattivo\n",
      "\n",
      "🔧 Caratteristiche dello script:\n",
      "   ✅ Crea automaticamente container MySQL\n",
      "   ✅ Gestisce inserimento utenti con validazione\n",
      "   ✅ Visualizza utenti in formato tabellare\n",
      "   ✅ Menu interattivo user-friendly\n",
      "   ✅ Gestione errori robusta\n"
     ]
    }
   ],
   "source": [
    "# Demo rapida delle funzionalità principali dello script\n",
    "print(\"🎯 DEMO - MySQL User Manager\")\n",
    "print(\"=\" * 50)\n",
    "\n",
    "# Importa le classi principali\n",
    "from mysql_user_manager import MySQLManager, check_docker_running\n",
    "\n",
    "# Verifica che Docker sia disponibile\n",
    "if check_docker_running():\n",
    "    print(\"✅ Docker è disponibile e pronto per l'uso!\")\n",
    "    print(\"\\n📋 Per eseguire l'esercizio completo:\")\n",
    "    print(\"   1. Apri un terminale\")  \n",
    "    print(\"   2. Esegui: python mysql_user_manager.py\")\n",
    "    print(\"   3. Segui il menu interattivo\")\n",
    "else:\n",
    "    print(\"❌ Docker non disponibile\")\n",
    "\n",
    "print(\"\\n🔧 Caratteristiche dello script:\")\n",
    "print(\"   ✅ Crea automaticamente container MySQL\")\n",
    "print(\"   ✅ Gestisce inserimento utenti con validazione\")\n",
    "print(\"   ✅ Visualizza utenti in formato tabellare\")\n",
    "print(\"   ✅ Menu interattivo user-friendly\")\n",
    "print(\"   ✅ Gestione errori robusta\")"
   ]
  }
 ],
 "metadata": {
  "kernelspec": {
   "display_name": "Python 3",
   "language": "python",
   "name": "python3"
  },
  "language_info": {
   "codemirror_mode": {
    "name": "ipython",
    "version": 3
   },
   "file_extension": ".py",
   "mimetype": "text/x-python",
   "name": "python",
   "nbconvert_exporter": "python",
   "pygments_lexer": "ipython3",
   "version": "3.13.7"
  }
 },
 "nbformat": 4,
 "nbformat_minor": 5
}

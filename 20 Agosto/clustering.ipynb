{
 "cells": [
  {
   "cell_type": "code",
   "execution_count": 1,
   "id": "a66a5805",
   "metadata": {},
   "outputs": [],
   "source": [
    "import pandas as pd"
   ]
  },
  {
   "cell_type": "code",
   "execution_count": 5,
   "id": "865d2930",
   "metadata": {},
   "outputs": [
    {
     "data": {
      "application/vnd.microsoft.datawrangler.viewer.v0+json": {
       "columns": [
        {
         "name": "index",
         "rawType": "int64",
         "type": "integer"
        },
        {
         "name": "CustomerID",
         "rawType": "int64",
         "type": "integer"
        },
        {
         "name": "Genre",
         "rawType": "object",
         "type": "string"
        },
        {
         "name": "Age",
         "rawType": "int64",
         "type": "integer"
        },
        {
         "name": "Annual Income (k$)",
         "rawType": "int64",
         "type": "integer"
        },
        {
         "name": "Spending Score (1-100)",
         "rawType": "int64",
         "type": "integer"
        }
       ],
       "ref": "3df2df46-f918-4248-9e91-ca69cd94ffdd",
       "rows": [
        [
         "0",
         "1",
         "Male",
         "19",
         "15",
         "39"
        ],
        [
         "1",
         "2",
         "Male",
         "21",
         "15",
         "81"
        ],
        [
         "2",
         "3",
         "Female",
         "20",
         "16",
         "6"
        ],
        [
         "3",
         "4",
         "Female",
         "23",
         "16",
         "77"
        ],
        [
         "4",
         "5",
         "Female",
         "31",
         "17",
         "40"
        ],
        [
         "5",
         "6",
         "Female",
         "22",
         "17",
         "76"
        ],
        [
         "6",
         "7",
         "Female",
         "35",
         "18",
         "6"
        ],
        [
         "7",
         "8",
         "Female",
         "23",
         "18",
         "94"
        ],
        [
         "8",
         "9",
         "Male",
         "64",
         "19",
         "3"
        ],
        [
         "9",
         "10",
         "Female",
         "30",
         "19",
         "72"
        ],
        [
         "10",
         "11",
         "Male",
         "67",
         "19",
         "14"
        ],
        [
         "11",
         "12",
         "Female",
         "35",
         "19",
         "99"
        ],
        [
         "12",
         "13",
         "Female",
         "58",
         "20",
         "15"
        ],
        [
         "13",
         "14",
         "Female",
         "24",
         "20",
         "77"
        ],
        [
         "14",
         "15",
         "Male",
         "37",
         "20",
         "13"
        ],
        [
         "15",
         "16",
         "Male",
         "22",
         "20",
         "79"
        ],
        [
         "16",
         "17",
         "Female",
         "35",
         "21",
         "35"
        ],
        [
         "17",
         "18",
         "Male",
         "20",
         "21",
         "66"
        ],
        [
         "18",
         "19",
         "Male",
         "52",
         "23",
         "29"
        ],
        [
         "19",
         "20",
         "Female",
         "35",
         "23",
         "98"
        ],
        [
         "20",
         "21",
         "Male",
         "35",
         "24",
         "35"
        ],
        [
         "21",
         "22",
         "Male",
         "25",
         "24",
         "73"
        ],
        [
         "22",
         "23",
         "Female",
         "46",
         "25",
         "5"
        ],
        [
         "23",
         "24",
         "Male",
         "31",
         "25",
         "73"
        ],
        [
         "24",
         "25",
         "Female",
         "54",
         "28",
         "14"
        ],
        [
         "25",
         "26",
         "Male",
         "29",
         "28",
         "82"
        ],
        [
         "26",
         "27",
         "Female",
         "45",
         "28",
         "32"
        ],
        [
         "27",
         "28",
         "Male",
         "35",
         "28",
         "61"
        ],
        [
         "28",
         "29",
         "Female",
         "40",
         "29",
         "31"
        ],
        [
         "29",
         "30",
         "Female",
         "23",
         "29",
         "87"
        ],
        [
         "30",
         "31",
         "Male",
         "60",
         "30",
         "4"
        ],
        [
         "31",
         "32",
         "Female",
         "21",
         "30",
         "73"
        ],
        [
         "32",
         "33",
         "Male",
         "53",
         "33",
         "4"
        ],
        [
         "33",
         "34",
         "Male",
         "18",
         "33",
         "92"
        ],
        [
         "34",
         "35",
         "Female",
         "49",
         "33",
         "14"
        ],
        [
         "35",
         "36",
         "Female",
         "21",
         "33",
         "81"
        ],
        [
         "36",
         "37",
         "Female",
         "42",
         "34",
         "17"
        ],
        [
         "37",
         "38",
         "Female",
         "30",
         "34",
         "73"
        ],
        [
         "38",
         "39",
         "Female",
         "36",
         "37",
         "26"
        ],
        [
         "39",
         "40",
         "Female",
         "20",
         "37",
         "75"
        ],
        [
         "40",
         "41",
         "Female",
         "65",
         "38",
         "35"
        ],
        [
         "41",
         "42",
         "Male",
         "24",
         "38",
         "92"
        ],
        [
         "42",
         "43",
         "Male",
         "48",
         "39",
         "36"
        ],
        [
         "43",
         "44",
         "Female",
         "31",
         "39",
         "61"
        ],
        [
         "44",
         "45",
         "Female",
         "49",
         "39",
         "28"
        ],
        [
         "45",
         "46",
         "Female",
         "24",
         "39",
         "65"
        ],
        [
         "46",
         "47",
         "Female",
         "50",
         "40",
         "55"
        ],
        [
         "47",
         "48",
         "Female",
         "27",
         "40",
         "47"
        ],
        [
         "48",
         "49",
         "Female",
         "29",
         "40",
         "42"
        ],
        [
         "49",
         "50",
         "Female",
         "31",
         "40",
         "42"
        ]
       ],
       "shape": {
        "columns": 5,
        "rows": 200
       }
      },
      "text/html": [
       "<div>\n",
       "<style scoped>\n",
       "    .dataframe tbody tr th:only-of-type {\n",
       "        vertical-align: middle;\n",
       "    }\n",
       "\n",
       "    .dataframe tbody tr th {\n",
       "        vertical-align: top;\n",
       "    }\n",
       "\n",
       "    .dataframe thead th {\n",
       "        text-align: right;\n",
       "    }\n",
       "</style>\n",
       "<table border=\"1\" class=\"dataframe\">\n",
       "  <thead>\n",
       "    <tr style=\"text-align: right;\">\n",
       "      <th></th>\n",
       "      <th>CustomerID</th>\n",
       "      <th>Genre</th>\n",
       "      <th>Age</th>\n",
       "      <th>Annual Income (k$)</th>\n",
       "      <th>Spending Score (1-100)</th>\n",
       "    </tr>\n",
       "  </thead>\n",
       "  <tbody>\n",
       "    <tr>\n",
       "      <th>0</th>\n",
       "      <td>1</td>\n",
       "      <td>Male</td>\n",
       "      <td>19</td>\n",
       "      <td>15</td>\n",
       "      <td>39</td>\n",
       "    </tr>\n",
       "    <tr>\n",
       "      <th>1</th>\n",
       "      <td>2</td>\n",
       "      <td>Male</td>\n",
       "      <td>21</td>\n",
       "      <td>15</td>\n",
       "      <td>81</td>\n",
       "    </tr>\n",
       "    <tr>\n",
       "      <th>2</th>\n",
       "      <td>3</td>\n",
       "      <td>Female</td>\n",
       "      <td>20</td>\n",
       "      <td>16</td>\n",
       "      <td>6</td>\n",
       "    </tr>\n",
       "    <tr>\n",
       "      <th>3</th>\n",
       "      <td>4</td>\n",
       "      <td>Female</td>\n",
       "      <td>23</td>\n",
       "      <td>16</td>\n",
       "      <td>77</td>\n",
       "    </tr>\n",
       "    <tr>\n",
       "      <th>4</th>\n",
       "      <td>5</td>\n",
       "      <td>Female</td>\n",
       "      <td>31</td>\n",
       "      <td>17</td>\n",
       "      <td>40</td>\n",
       "    </tr>\n",
       "    <tr>\n",
       "      <th>...</th>\n",
       "      <td>...</td>\n",
       "      <td>...</td>\n",
       "      <td>...</td>\n",
       "      <td>...</td>\n",
       "      <td>...</td>\n",
       "    </tr>\n",
       "    <tr>\n",
       "      <th>195</th>\n",
       "      <td>196</td>\n",
       "      <td>Female</td>\n",
       "      <td>35</td>\n",
       "      <td>120</td>\n",
       "      <td>79</td>\n",
       "    </tr>\n",
       "    <tr>\n",
       "      <th>196</th>\n",
       "      <td>197</td>\n",
       "      <td>Female</td>\n",
       "      <td>45</td>\n",
       "      <td>126</td>\n",
       "      <td>28</td>\n",
       "    </tr>\n",
       "    <tr>\n",
       "      <th>197</th>\n",
       "      <td>198</td>\n",
       "      <td>Male</td>\n",
       "      <td>32</td>\n",
       "      <td>126</td>\n",
       "      <td>74</td>\n",
       "    </tr>\n",
       "    <tr>\n",
       "      <th>198</th>\n",
       "      <td>199</td>\n",
       "      <td>Male</td>\n",
       "      <td>32</td>\n",
       "      <td>137</td>\n",
       "      <td>18</td>\n",
       "    </tr>\n",
       "    <tr>\n",
       "      <th>199</th>\n",
       "      <td>200</td>\n",
       "      <td>Male</td>\n",
       "      <td>30</td>\n",
       "      <td>137</td>\n",
       "      <td>83</td>\n",
       "    </tr>\n",
       "  </tbody>\n",
       "</table>\n",
       "<p>200 rows × 5 columns</p>\n",
       "</div>"
      ],
      "text/plain": [
       "     CustomerID   Genre  Age  Annual Income (k$)  Spending Score (1-100)\n",
       "0             1    Male   19                  15                      39\n",
       "1             2    Male   21                  15                      81\n",
       "2             3  Female   20                  16                       6\n",
       "3             4  Female   23                  16                      77\n",
       "4             5  Female   31                  17                      40\n",
       "..          ...     ...  ...                 ...                     ...\n",
       "195         196  Female   35                 120                      79\n",
       "196         197  Female   45                 126                      28\n",
       "197         198    Male   32                 126                      74\n",
       "198         199    Male   32                 137                      18\n",
       "199         200    Male   30                 137                      83\n",
       "\n",
       "[200 rows x 5 columns]"
      ]
     },
     "execution_count": 5,
     "metadata": {},
     "output_type": "execute_result"
    }
   ],
   "source": [
    "# Caricamento Dataset\n",
    "data = pd.read_csv('Mall_Customers.csv')\n",
    "data"
   ]
  },
  {
   "cell_type": "code",
   "execution_count": 4,
   "id": "66a1c977",
   "metadata": {},
   "outputs": [
    {
     "data": {
      "application/vnd.microsoft.datawrangler.viewer.v0+json": {
       "columns": [
        {
         "name": "index",
         "rawType": "object",
         "type": "string"
        },
        {
         "name": "CustomerID",
         "rawType": "float64",
         "type": "float"
        },
        {
         "name": "Age",
         "rawType": "float64",
         "type": "float"
        },
        {
         "name": "Annual Income (k$)",
         "rawType": "float64",
         "type": "float"
        },
        {
         "name": "Spending Score (1-100)",
         "rawType": "float64",
         "type": "float"
        }
       ],
       "ref": "af11b1cd-08a0-41cb-9640-6176cc9afc1d",
       "rows": [
        [
         "count",
         "200.0",
         "200.0",
         "200.0",
         "200.0"
        ],
        [
         "mean",
         "100.5",
         "38.85",
         "60.56",
         "50.2"
        ],
        [
         "std",
         "57.879184513951124",
         "13.96900733155888",
         "26.264721165271244",
         "25.823521668370173"
        ],
        [
         "min",
         "1.0",
         "18.0",
         "15.0",
         "1.0"
        ],
        [
         "25%",
         "50.75",
         "28.75",
         "41.5",
         "34.75"
        ],
        [
         "50%",
         "100.5",
         "36.0",
         "61.5",
         "50.0"
        ],
        [
         "75%",
         "150.25",
         "49.0",
         "78.0",
         "73.0"
        ],
        [
         "max",
         "200.0",
         "70.0",
         "137.0",
         "99.0"
        ]
       ],
       "shape": {
        "columns": 4,
        "rows": 8
       }
      },
      "text/html": [
       "<div>\n",
       "<style scoped>\n",
       "    .dataframe tbody tr th:only-of-type {\n",
       "        vertical-align: middle;\n",
       "    }\n",
       "\n",
       "    .dataframe tbody tr th {\n",
       "        vertical-align: top;\n",
       "    }\n",
       "\n",
       "    .dataframe thead th {\n",
       "        text-align: right;\n",
       "    }\n",
       "</style>\n",
       "<table border=\"1\" class=\"dataframe\">\n",
       "  <thead>\n",
       "    <tr style=\"text-align: right;\">\n",
       "      <th></th>\n",
       "      <th>CustomerID</th>\n",
       "      <th>Age</th>\n",
       "      <th>Annual Income (k$)</th>\n",
       "      <th>Spending Score (1-100)</th>\n",
       "    </tr>\n",
       "  </thead>\n",
       "  <tbody>\n",
       "    <tr>\n",
       "      <th>count</th>\n",
       "      <td>200.000000</td>\n",
       "      <td>200.000000</td>\n",
       "      <td>200.000000</td>\n",
       "      <td>200.000000</td>\n",
       "    </tr>\n",
       "    <tr>\n",
       "      <th>mean</th>\n",
       "      <td>100.500000</td>\n",
       "      <td>38.850000</td>\n",
       "      <td>60.560000</td>\n",
       "      <td>50.200000</td>\n",
       "    </tr>\n",
       "    <tr>\n",
       "      <th>std</th>\n",
       "      <td>57.879185</td>\n",
       "      <td>13.969007</td>\n",
       "      <td>26.264721</td>\n",
       "      <td>25.823522</td>\n",
       "    </tr>\n",
       "    <tr>\n",
       "      <th>min</th>\n",
       "      <td>1.000000</td>\n",
       "      <td>18.000000</td>\n",
       "      <td>15.000000</td>\n",
       "      <td>1.000000</td>\n",
       "    </tr>\n",
       "    <tr>\n",
       "      <th>25%</th>\n",
       "      <td>50.750000</td>\n",
       "      <td>28.750000</td>\n",
       "      <td>41.500000</td>\n",
       "      <td>34.750000</td>\n",
       "    </tr>\n",
       "    <tr>\n",
       "      <th>50%</th>\n",
       "      <td>100.500000</td>\n",
       "      <td>36.000000</td>\n",
       "      <td>61.500000</td>\n",
       "      <td>50.000000</td>\n",
       "    </tr>\n",
       "    <tr>\n",
       "      <th>75%</th>\n",
       "      <td>150.250000</td>\n",
       "      <td>49.000000</td>\n",
       "      <td>78.000000</td>\n",
       "      <td>73.000000</td>\n",
       "    </tr>\n",
       "    <tr>\n",
       "      <th>max</th>\n",
       "      <td>200.000000</td>\n",
       "      <td>70.000000</td>\n",
       "      <td>137.000000</td>\n",
       "      <td>99.000000</td>\n",
       "    </tr>\n",
       "  </tbody>\n",
       "</table>\n",
       "</div>"
      ],
      "text/plain": [
       "       CustomerID         Age  Annual Income (k$)  Spending Score (1-100)\n",
       "count  200.000000  200.000000          200.000000              200.000000\n",
       "mean   100.500000   38.850000           60.560000               50.200000\n",
       "std     57.879185   13.969007           26.264721               25.823522\n",
       "min      1.000000   18.000000           15.000000                1.000000\n",
       "25%     50.750000   28.750000           41.500000               34.750000\n",
       "50%    100.500000   36.000000           61.500000               50.000000\n",
       "75%    150.250000   49.000000           78.000000               73.000000\n",
       "max    200.000000   70.000000          137.000000               99.000000"
      ]
     },
     "execution_count": 4,
     "metadata": {},
     "output_type": "execute_result"
    }
   ],
   "source": [
    "data.describe()"
   ]
  },
  {
   "cell_type": "code",
   "execution_count": 6,
   "id": "ecc47250",
   "metadata": {},
   "outputs": [
    {
     "data": {
      "text/plain": [
       "200"
      ]
     },
     "execution_count": 6,
     "metadata": {},
     "output_type": "execute_result"
    }
   ],
   "source": [
    "data['CustomerID'].nunique()"
   ]
  },
  {
   "cell_type": "markdown",
   "id": "203b8aad",
   "metadata": {},
   "source": [
    "### Quindi abbiamo una riga per ogni Customer, già tutto bello organizzato e pronto per il Clustering"
   ]
  },
  {
   "cell_type": "markdown",
   "id": "329a7884",
   "metadata": {},
   "source": [
    "### CLUSTERING SU ANNUAL INCOME, noto dal describe che potrebbero esserci almeno 5 gruppi differenti... n_cluster=5"
   ]
  },
  {
   "cell_type": "code",
   "execution_count": 7,
   "id": "049b2ba3",
   "metadata": {},
   "outputs": [],
   "source": [
    "from sklearn.cluster import KMeans"
   ]
  },
  {
   "cell_type": "code",
   "execution_count": 10,
   "id": "ae34b1aa",
   "metadata": {},
   "outputs": [],
   "source": [
    "# Feature rispetto alla quale raggruppare i clienti\n",
    "X = data[[\"Annual Income (k$)\", 'Spending Score (1-100)']]"
   ]
  },
  {
   "cell_type": "code",
   "execution_count": 11,
   "id": "37113fc4",
   "metadata": {},
   "outputs": [],
   "source": [
    "# come anticipato almeno 5 clusters... ne scelgo 6\n",
    "kmeans = KMeans(n_clusters=6, random_state=42)\n",
    "labels = kmeans.fit_predict(X)\n",
    "data[\"IncomeCluster\"] = labels"
   ]
  },
  {
   "cell_type": "code",
   "execution_count": 12,
   "id": "b5a0e846",
   "metadata": {},
   "outputs": [
    {
     "data": {
      "application/vnd.microsoft.datawrangler.viewer.v0+json": {
       "columns": [
        {
         "name": "IncomeCluster",
         "rawType": "int32",
         "type": "integer"
        },
        {
         "name": "('Annual Income (k$)', 'count')",
         "rawType": "float64",
         "type": "float"
        },
        {
         "name": "('Annual Income (k$)', 'mean')",
         "rawType": "float64",
         "type": "float"
        },
        {
         "name": "('Annual Income (k$)', 'std')",
         "rawType": "float64",
         "type": "float"
        },
        {
         "name": "('Annual Income (k$)', 'min')",
         "rawType": "float64",
         "type": "float"
        },
        {
         "name": "('Annual Income (k$)', '25%')",
         "rawType": "float64",
         "type": "float"
        },
        {
         "name": "('Annual Income (k$)', '50%')",
         "rawType": "float64",
         "type": "float"
        },
        {
         "name": "('Annual Income (k$)', '75%')",
         "rawType": "float64",
         "type": "float"
        },
        {
         "name": "('Annual Income (k$)', 'max')",
         "rawType": "float64",
         "type": "float"
        },
        {
         "name": "('Spending Score (1-100)', 'count')",
         "rawType": "float64",
         "type": "float"
        },
        {
         "name": "('Spending Score (1-100)', 'mean')",
         "rawType": "float64",
         "type": "float"
        },
        {
         "name": "('Spending Score (1-100)', 'std')",
         "rawType": "float64",
         "type": "float"
        },
        {
         "name": "('Spending Score (1-100)', 'min')",
         "rawType": "float64",
         "type": "float"
        },
        {
         "name": "('Spending Score (1-100)', '25%')",
         "rawType": "float64",
         "type": "float"
        },
        {
         "name": "('Spending Score (1-100)', '50%')",
         "rawType": "float64",
         "type": "float"
        },
        {
         "name": "('Spending Score (1-100)', '75%')",
         "rawType": "float64",
         "type": "float"
        },
        {
         "name": "('Spending Score (1-100)', 'max')",
         "rawType": "float64",
         "type": "float"
        }
       ],
       "ref": "3ff58463-7db1-4fd8-837d-fff0b11ad452",
       "rows": [
        [
         "0",
         "77.0",
         "56.05194805194805",
         "8.557692913236949",
         "39.0",
         "48.0",
         "57.0",
         "63.0",
         "76.0",
         "77.0",
         "49.857142857142854",
         "6.500433762276511",
         "34.0",
         "46.0",
         "50.0",
         "55.0",
         "61.0"
        ],
        [
         "1",
         "39.0",
         "86.53846153846153",
         "16.312484972924963",
         "69.0",
         "75.5",
         "79.0",
         "95.0",
         "137.0",
         "39.0",
         "82.12820512820512",
         "9.36448915958436",
         "63.0",
         "74.5",
         "83.0",
         "90.0",
         "97.0"
        ],
        [
         "2",
         "22.0",
         "25.727272727272727",
         "7.566730552584204",
         "15.0",
         "19.25",
         "24.5",
         "32.25",
         "39.0",
         "22.0",
         "79.36363636363636",
         "10.504173567571241",
         "61.0",
         "73.0",
         "77.0",
         "85.75",
         "99.0"
        ],
        [
         "3",
         "35.0",
         "88.2",
         "16.399067405334545",
         "70.0",
         "77.5",
         "85.0",
         "97.5",
         "137.0",
         "35.0",
         "17.114285714285714",
         "9.952154447719373",
         "1.0",
         "10.0",
         "16.0",
         "23.5",
         "39.0"
        ],
        [
         "4",
         "12.0",
         "24.583333333333332",
         "6.694072457077684",
         "16.0",
         "19.0",
         "22.5",
         "30.75",
         "34.0",
         "12.0",
         "9.583333333333334",
         "5.28218848125615",
         "3.0",
         "4.75",
         "9.5",
         "14.0",
         "17.0"
        ],
        [
         "5",
         "15.0",
         "31.533333333333335",
         "9.538393595409678",
         "15.0",
         "23.5",
         "37.0",
         "39.5",
         "43.0",
         "15.0",
         "35.86666666666667",
         "5.974549195984421",
         "26.0",
         "31.5",
         "35.0",
         "40.5",
         "47.0"
        ]
       ],
       "shape": {
        "columns": 16,
        "rows": 6
       }
      },
      "text/html": [
       "<div>\n",
       "<style scoped>\n",
       "    .dataframe tbody tr th:only-of-type {\n",
       "        vertical-align: middle;\n",
       "    }\n",
       "\n",
       "    .dataframe tbody tr th {\n",
       "        vertical-align: top;\n",
       "    }\n",
       "\n",
       "    .dataframe thead tr th {\n",
       "        text-align: left;\n",
       "    }\n",
       "\n",
       "    .dataframe thead tr:last-of-type th {\n",
       "        text-align: right;\n",
       "    }\n",
       "</style>\n",
       "<table border=\"1\" class=\"dataframe\">\n",
       "  <thead>\n",
       "    <tr>\n",
       "      <th></th>\n",
       "      <th colspan=\"8\" halign=\"left\">Annual Income (k$)</th>\n",
       "      <th colspan=\"8\" halign=\"left\">Spending Score (1-100)</th>\n",
       "    </tr>\n",
       "    <tr>\n",
       "      <th></th>\n",
       "      <th>count</th>\n",
       "      <th>mean</th>\n",
       "      <th>std</th>\n",
       "      <th>min</th>\n",
       "      <th>25%</th>\n",
       "      <th>50%</th>\n",
       "      <th>75%</th>\n",
       "      <th>max</th>\n",
       "      <th>count</th>\n",
       "      <th>mean</th>\n",
       "      <th>std</th>\n",
       "      <th>min</th>\n",
       "      <th>25%</th>\n",
       "      <th>50%</th>\n",
       "      <th>75%</th>\n",
       "      <th>max</th>\n",
       "    </tr>\n",
       "    <tr>\n",
       "      <th>IncomeCluster</th>\n",
       "      <th></th>\n",
       "      <th></th>\n",
       "      <th></th>\n",
       "      <th></th>\n",
       "      <th></th>\n",
       "      <th></th>\n",
       "      <th></th>\n",
       "      <th></th>\n",
       "      <th></th>\n",
       "      <th></th>\n",
       "      <th></th>\n",
       "      <th></th>\n",
       "      <th></th>\n",
       "      <th></th>\n",
       "      <th></th>\n",
       "      <th></th>\n",
       "    </tr>\n",
       "  </thead>\n",
       "  <tbody>\n",
       "    <tr>\n",
       "      <th>0</th>\n",
       "      <td>77.0</td>\n",
       "      <td>56.051948</td>\n",
       "      <td>8.557693</td>\n",
       "      <td>39.0</td>\n",
       "      <td>48.00</td>\n",
       "      <td>57.0</td>\n",
       "      <td>63.00</td>\n",
       "      <td>76.0</td>\n",
       "      <td>77.0</td>\n",
       "      <td>49.857143</td>\n",
       "      <td>6.500434</td>\n",
       "      <td>34.0</td>\n",
       "      <td>46.00</td>\n",
       "      <td>50.0</td>\n",
       "      <td>55.00</td>\n",
       "      <td>61.0</td>\n",
       "    </tr>\n",
       "    <tr>\n",
       "      <th>1</th>\n",
       "      <td>39.0</td>\n",
       "      <td>86.538462</td>\n",
       "      <td>16.312485</td>\n",
       "      <td>69.0</td>\n",
       "      <td>75.50</td>\n",
       "      <td>79.0</td>\n",
       "      <td>95.00</td>\n",
       "      <td>137.0</td>\n",
       "      <td>39.0</td>\n",
       "      <td>82.128205</td>\n",
       "      <td>9.364489</td>\n",
       "      <td>63.0</td>\n",
       "      <td>74.50</td>\n",
       "      <td>83.0</td>\n",
       "      <td>90.00</td>\n",
       "      <td>97.0</td>\n",
       "    </tr>\n",
       "    <tr>\n",
       "      <th>2</th>\n",
       "      <td>22.0</td>\n",
       "      <td>25.727273</td>\n",
       "      <td>7.566731</td>\n",
       "      <td>15.0</td>\n",
       "      <td>19.25</td>\n",
       "      <td>24.5</td>\n",
       "      <td>32.25</td>\n",
       "      <td>39.0</td>\n",
       "      <td>22.0</td>\n",
       "      <td>79.363636</td>\n",
       "      <td>10.504174</td>\n",
       "      <td>61.0</td>\n",
       "      <td>73.00</td>\n",
       "      <td>77.0</td>\n",
       "      <td>85.75</td>\n",
       "      <td>99.0</td>\n",
       "    </tr>\n",
       "    <tr>\n",
       "      <th>3</th>\n",
       "      <td>35.0</td>\n",
       "      <td>88.200000</td>\n",
       "      <td>16.399067</td>\n",
       "      <td>70.0</td>\n",
       "      <td>77.50</td>\n",
       "      <td>85.0</td>\n",
       "      <td>97.50</td>\n",
       "      <td>137.0</td>\n",
       "      <td>35.0</td>\n",
       "      <td>17.114286</td>\n",
       "      <td>9.952154</td>\n",
       "      <td>1.0</td>\n",
       "      <td>10.00</td>\n",
       "      <td>16.0</td>\n",
       "      <td>23.50</td>\n",
       "      <td>39.0</td>\n",
       "    </tr>\n",
       "    <tr>\n",
       "      <th>4</th>\n",
       "      <td>12.0</td>\n",
       "      <td>24.583333</td>\n",
       "      <td>6.694072</td>\n",
       "      <td>16.0</td>\n",
       "      <td>19.00</td>\n",
       "      <td>22.5</td>\n",
       "      <td>30.75</td>\n",
       "      <td>34.0</td>\n",
       "      <td>12.0</td>\n",
       "      <td>9.583333</td>\n",
       "      <td>5.282188</td>\n",
       "      <td>3.0</td>\n",
       "      <td>4.75</td>\n",
       "      <td>9.5</td>\n",
       "      <td>14.00</td>\n",
       "      <td>17.0</td>\n",
       "    </tr>\n",
       "    <tr>\n",
       "      <th>5</th>\n",
       "      <td>15.0</td>\n",
       "      <td>31.533333</td>\n",
       "      <td>9.538394</td>\n",
       "      <td>15.0</td>\n",
       "      <td>23.50</td>\n",
       "      <td>37.0</td>\n",
       "      <td>39.50</td>\n",
       "      <td>43.0</td>\n",
       "      <td>15.0</td>\n",
       "      <td>35.866667</td>\n",
       "      <td>5.974549</td>\n",
       "      <td>26.0</td>\n",
       "      <td>31.50</td>\n",
       "      <td>35.0</td>\n",
       "      <td>40.50</td>\n",
       "      <td>47.0</td>\n",
       "    </tr>\n",
       "  </tbody>\n",
       "</table>\n",
       "</div>"
      ],
      "text/plain": [
       "              Annual Income (k$)                                           \\\n",
       "                           count       mean        std   min    25%   50%   \n",
       "IncomeCluster                                                               \n",
       "0                           77.0  56.051948   8.557693  39.0  48.00  57.0   \n",
       "1                           39.0  86.538462  16.312485  69.0  75.50  79.0   \n",
       "2                           22.0  25.727273   7.566731  15.0  19.25  24.5   \n",
       "3                           35.0  88.200000  16.399067  70.0  77.50  85.0   \n",
       "4                           12.0  24.583333   6.694072  16.0  19.00  22.5   \n",
       "5                           15.0  31.533333   9.538394  15.0  23.50  37.0   \n",
       "\n",
       "                            Spending Score (1-100)                        \\\n",
       "                 75%    max                  count       mean        std   \n",
       "IncomeCluster                                                              \n",
       "0              63.00   76.0                   77.0  49.857143   6.500434   \n",
       "1              95.00  137.0                   39.0  82.128205   9.364489   \n",
       "2              32.25   39.0                   22.0  79.363636  10.504174   \n",
       "3              97.50  137.0                   35.0  17.114286   9.952154   \n",
       "4              30.75   34.0                   12.0   9.583333   5.282188   \n",
       "5              39.50   43.0                   15.0  35.866667   5.974549   \n",
       "\n",
       "                                               \n",
       "                min    25%   50%    75%   max  \n",
       "IncomeCluster                                  \n",
       "0              34.0  46.00  50.0  55.00  61.0  \n",
       "1              63.0  74.50  83.0  90.00  97.0  \n",
       "2              61.0  73.00  77.0  85.75  99.0  \n",
       "3               1.0  10.00  16.0  23.50  39.0  \n",
       "4               3.0   4.75   9.5  14.00  17.0  \n",
       "5              26.0  31.50  35.0  40.50  47.0  "
      ]
     },
     "execution_count": 12,
     "metadata": {},
     "output_type": "execute_result"
    }
   ],
   "source": [
    "# visualizzazione clusters\n",
    "data.groupby(\"IncomeCluster\")[[\"Annual Income (k$)\", 'Spending Score (1-100)']].describe()"
   ]
  },
  {
   "cell_type": "code",
   "execution_count": null,
   "id": "33422616",
   "metadata": {},
   "outputs": [],
   "source": []
  }
 ],
 "metadata": {
  "kernelspec": {
   "display_name": "Python 3",
   "language": "python",
   "name": "python3"
  },
  "language_info": {
   "codemirror_mode": {
    "name": "ipython",
    "version": 3
   },
   "file_extension": ".py",
   "mimetype": "text/x-python",
   "name": "python",
   "nbconvert_exporter": "python",
   "pygments_lexer": "ipython3",
   "version": "3.11.9"
  }
 },
 "nbformat": 4,
 "nbformat_minor": 5
}
